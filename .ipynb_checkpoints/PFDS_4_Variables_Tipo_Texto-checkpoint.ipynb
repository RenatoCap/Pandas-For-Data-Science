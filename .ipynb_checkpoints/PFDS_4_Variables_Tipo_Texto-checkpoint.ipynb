{
 "cells": [
  {
   "cell_type": "markdown",
   "metadata": {
    "cell_id": "00000-9d33d5dc-acb2-435e-ad4b-0019026e0ebf",
    "deepnote_cell_type": "markdown"
   },
   "source": [
    "<table align=\"center\">\n",
    "  <td align=\"center\"><a target=\"_blank\" href=\"https://gdsc.community.dev/universidad-nacional-de-ingenieria/\">\n",
    "        <img src=\"https://i.ibb.co/pX2w52P/GDSC.png\" style=\"padding-bottom:5px;\" />\n",
    "      GDSC UNI</a></td>\n",
    "\n",
    "  <td align=\"center\"><a target=\"_blank\" href=\"\">\n",
    "        <img src=\"https://i.ibb.co/Bf0HK0q/Colaboratory.png\"  style=\"padding-bottom:5px;\" /> Google Colab </a></td>\n",
    "\n",
    "  <td align=\"center\"><a target=\"_blank\" href=\"\">\n",
    "        <img src=\"https://i.ibb.co/C99WYc2/DeepNote.png\"  height=\"110px\" style=\"padding-bottom:5px;\"/> Deepnote</a></td>\n",
    "\n",
    "  <td align=\"center\"><a target=\"_blank\" href=\"\">\n",
    "        <img src=\"https://i.ibb.co/VHHdRx2/Github.png\"  height=\"110px\" style=\"padding-bottom:5px;\"/> GitHub</a></td>\n",
    "\n",
    "</table>\n",
    "\n"
   ]
  },
  {
   "cell_type": "markdown",
   "metadata": {
    "cell_id": "00002-9d68e669-ec01-4133-90fb-4a42cde138cd",
    "deepnote_cell_type": "markdown"
   },
   "source": [
    "<center>\n",
    "<h1><font color='SteelBlue', size= '30px'>PFDS4: </font> <font size='30px'>Variables Tipo Textos</font></h1>\n",
    "<hr>\n",
    "</center>"
   ]
  },
  {
   "cell_type": "markdown",
   "metadata": {
    "cell_id": "00003-0f3fb553-7aad-4c2f-a92f-39c0775bcc58",
    "deepnote_cell_type": "markdown"
   },
   "source": [
    "Dentro del campo de Machine learning, existe un subcampo llamado *Natural lenguage Processing* (NLP), en el que se trabajan con variables tipo texto. Pandas, cuenta con una gran funcionalidad a la hora de interactuar con estas variables. Antes de mostrar las funcionalidad, crearemos un DataFrame con el que trabajaremos."
   ]
  },
  {
   "cell_type": "code",
   "execution_count": 1,
   "metadata": {
    "cell_id": "00004-7028228c-dfa2-4027-afba-c0c71ee66464",
    "deepnote_cell_type": "code"
   },
   "outputs": [],
   "source": [
    "import pandas as pd"
   ]
  },
  {
   "cell_type": "code",
   "execution_count": 2,
   "metadata": {
    "cell_id": "00005-dabe2590-7a07-41f6-b466-11d6326c8bee",
    "deepnote_cell_type": "code"
   },
   "outputs": [
    {
     "data": {
      "text/html": [
       "<div>\n",
       "<style scoped>\n",
       "    .dataframe tbody tr th:only-of-type {\n",
       "        vertical-align: middle;\n",
       "    }\n",
       "\n",
       "    .dataframe tbody tr th {\n",
       "        vertical-align: top;\n",
       "    }\n",
       "\n",
       "    .dataframe thead th {\n",
       "        text-align: right;\n",
       "    }\n",
       "</style>\n",
       "<table border=\"1\" class=\"dataframe\">\n",
       "  <thead>\n",
       "    <tr style=\"text-align: right;\">\n",
       "      <th></th>\n",
       "      <th>names</th>\n",
       "    </tr>\n",
       "  </thead>\n",
       "  <tbody>\n",
       "    <tr>\n",
       "      <th>0</th>\n",
       "      <td>Margaret Hamilton25</td>\n",
       "    </tr>\n",
       "    <tr>\n",
       "      <th>1</th>\n",
       "      <td>Donald Knuth14</td>\n",
       "    </tr>\n",
       "    <tr>\n",
       "      <th>2</th>\n",
       "      <td>Ken Thompson13</td>\n",
       "    </tr>\n",
       "    <tr>\n",
       "      <th>3</th>\n",
       "      <td>Linus Torvalds18</td>\n",
       "    </tr>\n",
       "  </tbody>\n",
       "</table>\n",
       "</div>"
      ],
      "text/plain": [
       "                 names\n",
       "0  Margaret Hamilton25\n",
       "1       Donald Knuth14\n",
       "2       Ken Thompson13\n",
       "3     Linus Torvalds18"
      ]
     },
     "execution_count": 2,
     "metadata": {},
     "output_type": "execute_result"
    }
   ],
   "source": [
    "data = { 'names': [ 'Margaret Hamilton25',\n",
    "                    'Donald Knuth14',\n",
    "                    'Ken Thompson13',\n",
    "                    'Linus Torvalds18'\n",
    "]}\n",
    "\n",
    "df = pd.DataFrame(data)\n",
    "df"
   ]
  },
  {
   "cell_type": "markdown",
   "metadata": {
    "cell_id": "00006-e8ab207c-7566-438a-ab1f-bb74defac408",
    "deepnote_cell_type": "markdown"
   },
   "source": [
    "Pandas nos permite usar métodos asociadas a los string usando *str* en nuestro DataFrame, tal como se muestra a continuación:"
   ]
  },
  {
   "cell_type": "code",
   "execution_count": 3,
   "metadata": {
    "cell_id": "00007-fa5f7be5-e22a-47d8-bf04-cabf3a73de05",
    "deepnote_cell_type": "code"
   },
   "outputs": [
    {
     "data": {
      "text/plain": [
       "0    margaret hamilton25\n",
       "1         donald knuth14\n",
       "2         ken thompson13\n",
       "3       linus torvalds18\n",
       "Name: names, dtype: object"
      ]
     },
     "execution_count": 3,
     "metadata": {},
     "output_type": "execute_result"
    }
   ],
   "source": [
    "df['names'].str.lower()"
   ]
  },
  {
   "cell_type": "code",
   "execution_count": 4,
   "metadata": {
    "cell_id": "00008-bcceb777-5b92-43af-b386-072e593afaca",
    "deepnote_cell_type": "code"
   },
   "outputs": [
    {
     "data": {
      "text/plain": [
       "0    MARGARET HAMILTON25\n",
       "1         DONALD KNUTH14\n",
       "2         KEN THOMPSON13\n",
       "3       LINUS TORVALDS18\n",
       "Name: names, dtype: object"
      ]
     },
     "execution_count": 4,
     "metadata": {},
     "output_type": "execute_result"
    }
   ],
   "source": [
    "df['names'].str.upper()"
   ]
  },
  {
   "cell_type": "code",
   "execution_count": 5,
   "metadata": {
    "cell_id": "00009-fad2d091-d0f5-4f81-a426-9c1928ee8eb8",
    "deepnote_cell_type": "code"
   },
   "outputs": [
    {
     "data": {
      "text/plain": [
       "0    Margaret hamilton25\n",
       "1         Donald knuth14\n",
       "2         Ken thompson13\n",
       "3       Linus torvalds18\n",
       "Name: names, dtype: object"
      ]
     },
     "execution_count": 5,
     "metadata": {},
     "output_type": "execute_result"
    }
   ],
   "source": [
    "df['names'].str.capitalize()"
   ]
  },
  {
   "cell_type": "code",
   "execution_count": 6,
   "metadata": {
    "cell_id": "00010-822033bb-f155-4f5a-b828-9bb741e52cf6",
    "deepnote_cell_type": "code"
   },
   "outputs": [
    {
     "data": {
      "text/plain": [
       "0    19\n",
       "1    14\n",
       "2    14\n",
       "3    16\n",
       "Name: names, dtype: int64"
      ]
     },
     "execution_count": 6,
     "metadata": {},
     "output_type": "execute_result"
    }
   ],
   "source": [
    "df['names'].str.len()"
   ]
  },
  {
   "cell_type": "code",
   "execution_count": 7,
   "metadata": {
    "cell_id": "00011-ac2a8f9e-3de4-42dd-ac7d-bf9c5d7b953e",
    "deepnote_cell_type": "code"
   },
   "outputs": [
    {
     "data": {
      "text/plain": [
       "0    [Margaret, Hamilton25]\n",
       "1         [Donald, Knuth14]\n",
       "2         [Ken, Thompson13]\n",
       "3       [Linus, Torvalds18]\n",
       "Name: names, dtype: object"
      ]
     },
     "execution_count": 7,
     "metadata": {},
     "output_type": "execute_result"
    }
   ],
   "source": [
    "df['names'].str.split(' ')"
   ]
  },
  {
   "cell_type": "code",
   "execution_count": 8,
   "metadata": {
    "cell_id": "00012-5f93dc72-6e56-4317-b361-bb7fbe6a9ef5",
    "deepnote_cell_type": "code"
   },
   "outputs": [
    {
     "data": {
      "text/plain": [
       "0    Mar\n",
       "1    Don\n",
       "2    Ken\n",
       "3    Lin\n",
       "Name: names, dtype: object"
      ]
     },
     "execution_count": 8,
     "metadata": {},
     "output_type": "execute_result"
    }
   ],
   "source": [
    "df['names'].str[:3]"
   ]
  },
  {
   "cell_type": "code",
   "execution_count": 9,
   "metadata": {
    "cell_id": "00013-d580e118-3a93-4bd3-8be0-de280204872d",
    "deepnote_cell_type": "code"
   },
   "outputs": [
    {
     "data": {
      "text/plain": [
       "0    n25\n",
       "1    h14\n",
       "2    n13\n",
       "3    s18\n",
       "Name: names, dtype: object"
      ]
     },
     "execution_count": 9,
     "metadata": {},
     "output_type": "execute_result"
    }
   ],
   "source": [
    "df['names'].str[-3:]"
   ]
  },
  {
   "cell_type": "markdown",
   "metadata": {
    "cell_id": "00014-e2da195a-0813-4d74-8380-c82e34eba413",
    "deepnote_cell_type": "markdown"
   },
   "source": [
    "Haciendo un análisis de nuestros datos, podemos números entre los nombres que no deberían estar, estos números los podemos conocer mediante el método extract, tal como se muestra a continuación."
   ]
  },
  {
   "cell_type": "code",
   "execution_count": 10,
   "metadata": {
    "cell_id": "00015-a57bc371-dd8d-4ced-82aa-0022add6739e",
    "deepnote_cell_type": "code"
   },
   "outputs": [
    {
     "data": {
      "text/plain": [
       "0    25\n",
       "1    14\n",
       "2    13\n",
       "3    18\n",
       "Name: names, dtype: object"
      ]
     },
     "execution_count": 10,
     "metadata": {},
     "output_type": "execute_result"
    }
   ],
   "source": [
    "df['names'].str.extract('([0-9]+)', expand=False)"
   ]
  },
  {
   "cell_type": "markdown",
   "metadata": {
    "cell_id": "00016-fe63b2f4-42b9-4973-aee7-485506c38fe9",
    "deepnote_cell_type": "markdown"
   },
   "source": [
    "Y con el método replace podemos eliminar estos números que no deberían estar"
   ]
  },
  {
   "cell_type": "code",
   "execution_count": 11,
   "metadata": {
    "cell_id": "00017-02d0ec70-2716-46b1-960c-bd67df4c6471",
    "deepnote_cell_type": "code"
   },
   "outputs": [
    {
     "data": {
      "text/plain": [
       "0    Margaret Hamilton\n",
       "1         Donald Knuth\n",
       "2         Ken Thompson\n",
       "3       Linus Torvalds\n",
       "Name: names, dtype: object"
      ]
     },
     "execution_count": 11,
     "metadata": {},
     "output_type": "execute_result"
    }
   ],
   "source": [
    "df['names'].str.replace('[0-9]', '',regex=True)"
   ]
  },
  {
   "cell_type": "markdown",
   "metadata": {
    "cell_id": "00018-69f3b55a-4fd7-43e6-849d-fb59b3e1a4f5",
    "deepnote_cell_type": "markdown"
   },
   "source": [
    "Existen métodos como *findall* que nos permite buscar un string dentro de nuestro DataFrame, así como también el método contains que nos permite buscar dentro de nuestro DataFrame todas aquellas filas que contengan en o los caracteres buscados."
   ]
  },
  {
   "cell_type": "code",
   "execution_count": 12,
   "metadata": {
    "cell_id": "00019-2d1e4761-ea76-4b40-8d75-6c2357f984ad",
    "deepnote_cell_type": "code"
   },
   "outputs": [
    {
     "data": {
      "text/plain": [
       "0       []\n",
       "1       []\n",
       "2    [Ken]\n",
       "3       []\n",
       "Name: names, dtype: object"
      ]
     },
     "execution_count": 12,
     "metadata": {},
     "output_type": "execute_result"
    }
   ],
   "source": [
    "df['names'].str.findall('Ken')"
   ]
  },
  {
   "cell_type": "code",
   "execution_count": 13,
   "metadata": {
    "cell_id": "00020-e53a1787-537b-4c0e-ac18-c14d9afaf1fd",
    "deepnote_cell_type": "code"
   },
   "outputs": [
    {
     "data": {
      "text/plain": [
       "0     True\n",
       "1    False\n",
       "2    False\n",
       "3     True\n",
       "Name: names, dtype: bool"
      ]
     },
     "execution_count": 13,
     "metadata": {},
     "output_type": "execute_result"
    }
   ],
   "source": [
    "df['names'].str.contains('r')"
   ]
  },
  {
   "cell_type": "code",
   "execution_count": 14,
   "metadata": {
    "cell_id": "00021-121ff27a-a8d6-4859-8ca8-f0afddcb9c30",
    "deepnote_cell_type": "code"
   },
   "outputs": [
    {
     "data": {
      "text/html": [
       "<div>\n",
       "<style scoped>\n",
       "    .dataframe tbody tr th:only-of-type {\n",
       "        vertical-align: middle;\n",
       "    }\n",
       "\n",
       "    .dataframe tbody tr th {\n",
       "        vertical-align: top;\n",
       "    }\n",
       "\n",
       "    .dataframe thead th {\n",
       "        text-align: right;\n",
       "    }\n",
       "</style>\n",
       "<table border=\"1\" class=\"dataframe\">\n",
       "  <thead>\n",
       "    <tr style=\"text-align: right;\">\n",
       "      <th></th>\n",
       "      <th>names</th>\n",
       "    </tr>\n",
       "  </thead>\n",
       "  <tbody>\n",
       "    <tr>\n",
       "      <th>0</th>\n",
       "      <td>Margaret Hamilton25</td>\n",
       "    </tr>\n",
       "    <tr>\n",
       "      <th>3</th>\n",
       "      <td>Linus Torvalds18</td>\n",
       "    </tr>\n",
       "  </tbody>\n",
       "</table>\n",
       "</div>"
      ],
      "text/plain": [
       "                 names\n",
       "0  Margaret Hamilton25\n",
       "3     Linus Torvalds18"
      ]
     },
     "execution_count": 14,
     "metadata": {},
     "output_type": "execute_result"
    }
   ],
   "source": [
    "df[df['names'].str.contains('r')]"
   ]
  },
  {
   "cell_type": "markdown",
   "metadata": {
    "cell_id": "00022-cc9af70a-7f0a-4a9a-ac92-a9acdb6b0a49",
    "deepnote_cell_type": "markdown"
   },
   "source": [
    "Por último, podemos contar cuantas veces aparece un determinado carácter de la siguiente manera."
   ]
  },
  {
   "cell_type": "code",
   "execution_count": 15,
   "metadata": {
    "cell_id": "00023-d1f5ad0e-6429-4f49-8641-51e89bc07435",
    "deepnote_cell_type": "code"
   },
   "outputs": [
    {
     "data": {
      "text/plain": [
       "0    3\n",
       "1    1\n",
       "2    0\n",
       "3    1\n",
       "Name: names, dtype: int64"
      ]
     },
     "execution_count": 15,
     "metadata": {},
     "output_type": "execute_result"
    }
   ],
   "source": [
    "df['names'].str.lower().str.count('a')"
   ]
  }
 ],
 "metadata": {
  "deepnote": {},
  "deepnote_execution_queue": [],
  "deepnote_notebook_id": "82812e14-499f-4390-b901-63f0b9a066e8",
  "interpreter": {
   "hash": "568a22c9cab12376fc7d578725a09d5aa8bff0eb67624256ed647bcf9e0950c5"
  },
  "kernelspec": {
   "display_name": "Python 3",
   "language": "python",
   "name": "python3"
  },
  "language_info": {
   "codemirror_mode": {
    "name": "ipython",
    "version": 3
   },
   "file_extension": ".py",
   "mimetype": "text/x-python",
   "name": "python",
   "nbconvert_exporter": "python",
   "pygments_lexer": "ipython3",
   "version": "3.8.8"
  }
 },
 "nbformat": 4,
 "nbformat_minor": 4
}
